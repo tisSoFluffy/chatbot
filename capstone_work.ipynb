{
 "cells": [
  {
   "cell_type": "code",
   "execution_count": 1,
   "metadata": {},
   "outputs": [],
   "source": [
    "import pandas as pd\n",
    "import spacy\n",
    "import numpy as np\n",
    "import pandas as pd\n",
    "import matplotlib.pyplot as plt\n",
    "from sklearn.utils import shuffle\n",
    "import tensorflow as tf\n",
    "from tensorflow import keras\n",
    "from tensorflow.keras.layers import LSTM, Dense, Bidirectional, Dropout, Dense, Activation, Flatten, Embedding\n",
    "from tensorflow.keras.preprocessing.text import Tokenizer\n",
    "from tensorflow.keras.preprocessing import sequence\n",
    "from tensorflow.keras.preprocessing.sequence import pad_sequences\n",
    "from tensorflow.keras.models import Sequential,Model,load_model\n",
    "from tensorflow.keras.optimizers import SGD"
   ]
  },
  {
   "cell_type": "markdown",
   "metadata": {},
   "source": []
  },
  {
   "cell_type": "code",
   "execution_count": 2,
   "metadata": {},
   "outputs": [],
   "source": [
    "import spacy\n",
    "from nltk.tokenize import word_tokenize\n",
    "# loading english language model of spaCy\n",
    "en_model = spacy.load('en_core_web_sm')\n",
    "# gettign the list of default stop words in spaCy english model\n",
    "stopwords = en_model.Defaults.stop_words"
   ]
  },
  {
   "cell_type": "code",
   "execution_count": 3,
   "metadata": {},
   "outputs": [
    {
     "data": {
      "text/plain": [
       "'!\"#$%&\\'()*+,-./:;<=>?@[\\\\]^_`{|}~'"
      ]
     },
     "execution_count": 3,
     "metadata": {},
     "output_type": "execute_result"
    }
   ],
   "source": [
    "#Add custom stopwords\n",
    "import string\n",
    "string.punctuation"
   ]
  },
  {
   "cell_type": "code",
   "execution_count": 4,
   "metadata": {},
   "outputs": [],
   "source": [
    "df = pd.read_csv(r'C:\\Users\\joshu\\Downloads\\WikiQACorpus\\WikiQACorpus\\WikiQA.tsv', sep='\\t')"
   ]
  },
  {
   "cell_type": "code",
   "execution_count": 5,
   "metadata": {},
   "outputs": [
    {
     "data": {
      "text/plain": [
       "Index(['QuestionID', 'Question', 'DocumentID', 'DocumentTitle', 'SentenceID',\n",
       "       'Sentence', 'Label'],\n",
       "      dtype='object')"
      ]
     },
     "execution_count": 5,
     "metadata": {},
     "output_type": "execute_result"
    }
   ],
   "source": [
    "df.columns"
   ]
  },
  {
   "cell_type": "code",
   "execution_count": 6,
   "metadata": {},
   "outputs": [
    {
     "data": {
      "text/html": [
       "<div>\n",
       "<style scoped>\n",
       "    .dataframe tbody tr th:only-of-type {\n",
       "        vertical-align: middle;\n",
       "    }\n",
       "\n",
       "    .dataframe tbody tr th {\n",
       "        vertical-align: top;\n",
       "    }\n",
       "\n",
       "    .dataframe thead th {\n",
       "        text-align: right;\n",
       "    }\n",
       "</style>\n",
       "<table border=\"1\" class=\"dataframe\">\n",
       "  <thead>\n",
       "    <tr style=\"text-align: right;\">\n",
       "      <th></th>\n",
       "      <th>tweet_id</th>\n",
       "      <th>author_id</th>\n",
       "      <th>inbound</th>\n",
       "      <th>created_at</th>\n",
       "      <th>text</th>\n",
       "      <th>response_tweet_id</th>\n",
       "      <th>in_response_to_tweet_id</th>\n",
       "    </tr>\n",
       "  </thead>\n",
       "  <tbody>\n",
       "    <tr>\n",
       "      <th>0</th>\n",
       "      <td>1</td>\n",
       "      <td>sprintcare</td>\n",
       "      <td>False</td>\n",
       "      <td>Tue Oct 31 22:10:47 +0000 2017</td>\n",
       "      <td>@115712 I understand. I would like to assist y...</td>\n",
       "      <td>2</td>\n",
       "      <td>3.0</td>\n",
       "    </tr>\n",
       "    <tr>\n",
       "      <th>1</th>\n",
       "      <td>2</td>\n",
       "      <td>115712</td>\n",
       "      <td>True</td>\n",
       "      <td>Tue Oct 31 22:11:45 +0000 2017</td>\n",
       "      <td>@sprintcare and how do you propose we do that</td>\n",
       "      <td>NaN</td>\n",
       "      <td>1.0</td>\n",
       "    </tr>\n",
       "    <tr>\n",
       "      <th>2</th>\n",
       "      <td>3</td>\n",
       "      <td>115712</td>\n",
       "      <td>True</td>\n",
       "      <td>Tue Oct 31 22:08:27 +0000 2017</td>\n",
       "      <td>@sprintcare I have sent several private messag...</td>\n",
       "      <td>1</td>\n",
       "      <td>4.0</td>\n",
       "    </tr>\n",
       "    <tr>\n",
       "      <th>3</th>\n",
       "      <td>4</td>\n",
       "      <td>sprintcare</td>\n",
       "      <td>False</td>\n",
       "      <td>Tue Oct 31 21:54:49 +0000 2017</td>\n",
       "      <td>@115712 Please send us a Private Message so th...</td>\n",
       "      <td>3</td>\n",
       "      <td>5.0</td>\n",
       "    </tr>\n",
       "    <tr>\n",
       "      <th>4</th>\n",
       "      <td>5</td>\n",
       "      <td>115712</td>\n",
       "      <td>True</td>\n",
       "      <td>Tue Oct 31 21:49:35 +0000 2017</td>\n",
       "      <td>@sprintcare I did.</td>\n",
       "      <td>4</td>\n",
       "      <td>6.0</td>\n",
       "    </tr>\n",
       "  </tbody>\n",
       "</table>\n",
       "</div>"
      ],
      "text/plain": [
       "   tweet_id   author_id  inbound                      created_at  \\\n",
       "0         1  sprintcare    False  Tue Oct 31 22:10:47 +0000 2017   \n",
       "1         2      115712     True  Tue Oct 31 22:11:45 +0000 2017   \n",
       "2         3      115712     True  Tue Oct 31 22:08:27 +0000 2017   \n",
       "3         4  sprintcare    False  Tue Oct 31 21:54:49 +0000 2017   \n",
       "4         5      115712     True  Tue Oct 31 21:49:35 +0000 2017   \n",
       "\n",
       "                                                text response_tweet_id  \\\n",
       "0  @115712 I understand. I would like to assist y...                 2   \n",
       "1      @sprintcare and how do you propose we do that               NaN   \n",
       "2  @sprintcare I have sent several private messag...                 1   \n",
       "3  @115712 Please send us a Private Message so th...                 3   \n",
       "4                                 @sprintcare I did.                 4   \n",
       "\n",
       "   in_response_to_tweet_id  \n",
       "0                      3.0  \n",
       "1                      1.0  \n",
       "2                      4.0  \n",
       "3                      5.0  \n",
       "4                      6.0  "
      ]
     },
     "execution_count": 6,
     "metadata": {},
     "output_type": "execute_result"
    }
   ],
   "source": [
    "df = pd.read_csv(r\"C:\\Users\\joshu\\Downloads\\twcs.csv\\twcs.csv\")\n",
    "df.head()"
   ]
  },
  {
   "cell_type": "markdown",
   "metadata": {},
   "source": [
    "# Thought 2\n",
    "Lets look at AppleSupport AmazonHelp, SpotifyCares TMobileHelp comcastcares\n",
    "\n",
    "# Thought 1\n",
    "Chatbot analyzes whether the text input is a question ?\n",
    "\n",
    "If question, lookup answer\n",
    "\n",
    "If not question, get sassy (humor)"
   ]
  },
  {
   "cell_type": "code",
   "execution_count": 7,
   "metadata": {},
   "outputs": [
    {
     "name": "stdout",
     "output_type": "stream",
     "text": [
      "<class 'pandas.core.frame.DataFrame'>\n",
      "RangeIndex: 2811774 entries, 0 to 2811773\n",
      "Data columns (total 7 columns):\n",
      " #   Column                   Dtype  \n",
      "---  ------                   -----  \n",
      " 0   tweet_id                 int64  \n",
      " 1   author_id                object \n",
      " 2   inbound                  bool   \n",
      " 3   created_at               object \n",
      " 4   text                     object \n",
      " 5   response_tweet_id        object \n",
      " 6   in_response_to_tweet_id  float64\n",
      "dtypes: bool(1), float64(1), int64(1), object(4)\n",
      "memory usage: 131.4+ MB\n"
     ]
    }
   ],
   "source": [
    "df.info()"
   ]
  },
  {
   "cell_type": "code",
   "execution_count": 8,
   "metadata": {},
   "outputs": [],
   "source": [
    "a_df = df[df['author_id'].isin(['AppleSupport', 'AmazonHelp', 'SpotifyCares','TMobileHelp', 'comcastcares'])]"
   ]
  },
  {
   "cell_type": "code",
   "execution_count": 9,
   "metadata": {},
   "outputs": [],
   "source": [
    "#This is the questions being asked to the companys (our chatbot)\n",
    "#TODO add the rest of the Company Names to the list comprehension\n",
    "comp_df = df[df['in_response_to_tweet_id'].isna() & (df['text'].str.contains('@sprintcare') | df['text'].str.contains('@AppleSupport') | df['text'].str.contains('@AmazonHelp')) ]"
   ]
  },
  {
   "cell_type": "code",
   "execution_count": null,
   "metadata": {},
   "outputs": [],
   "source": [
    "comp_df.to_csv('comp_df.csv')"
   ]
  },
  {
   "cell_type": "markdown",
   "metadata": {},
   "source": [
    "# Intent Categories\n",
    "1. Marketing\n",
    "2. Commerce\n",
    "3. Software\n",
    "4. Tableau\n",
    "5. Employees\n",
    "6. Contact Management"
   ]
  },
  {
   "cell_type": "markdown",
   "metadata": {},
   "source": [
    "# Thoughts 3\n",
    "k means clustering (7) to the data.\n",
    "Assign an intent based on the results"
   ]
  },
  {
   "cell_type": "code",
   "execution_count": 79,
   "metadata": {},
   "outputs": [],
   "source": [
    "#id / tweet\n",
    "df_id_tweet = comp_df[['tweet_id', 'text']]"
   ]
  },
  {
   "cell_type": "markdown",
   "metadata": {},
   "source": [
    "Thoughts 4\n",
    "\n",
    "TODO need to select a Color scheme for the graphs"
   ]
  },
  {
   "cell_type": "code",
   "execution_count": 80,
   "metadata": {},
   "outputs": [
    {
     "name": "stderr",
     "output_type": "stream",
     "text": [
      "C:\\Users\\joshu\\AppData\\Local\\Temp/ipykernel_39744/1944919945.py:1: SettingWithCopyWarning: \n",
      "A value is trying to be set on a copy of a slice from a DataFrame.\n",
      "Try using .loc[row_indexer,col_indexer] = value instead\n",
      "\n",
      "See the caveats in the documentation: https://pandas.pydata.org/pandas-docs/stable/user_guide/indexing.html#returning-a-view-versus-a-copy\n",
      "  df_id_tweet['tokens'] = df_id_tweet['text'].apply(lambda x: word_tokenize(x))\n"
     ]
    }
   ],
   "source": [
    "df_id_tweet['tokens'] = df_id_tweet['text'].apply(lambda x: word_tokenize(x))"
   ]
  },
  {
   "cell_type": "code",
   "execution_count": 81,
   "metadata": {},
   "outputs": [],
   "source": [
    "#Add custom stopwords 'AppleSupport', 'AmazonHelp', 'SpotifyCares','TMobileHelp', 'comcastcares'\n",
    "swords = ['AppleSupport', 'AmazonHelp','SpotifyCares','comcastcares','TMobileHelp','sprintcare']\n",
    "for word in swords:\n",
    "    stopwords.add(word)\n"
   ]
  },
  {
   "cell_type": "code",
   "execution_count": 82,
   "metadata": {},
   "outputs": [],
   "source": [
    "def removeStopWords(token):\n",
    "    '''Return only tokens not in stopwords'''\n",
    "    results = [word for word in token if not word in stopwords]\n",
    "    results = [word for word in results if not word in string.punctuation]    \n",
    "    return results"
   ]
  },
  {
   "cell_type": "code",
   "execution_count": 83,
   "metadata": {},
   "outputs": [
    {
     "name": "stderr",
     "output_type": "stream",
     "text": [
      "C:\\Users\\joshu\\AppData\\Local\\Temp/ipykernel_39744/2869727416.py:1: SettingWithCopyWarning: \n",
      "A value is trying to be set on a copy of a slice from a DataFrame.\n",
      "Try using .loc[row_indexer,col_indexer] = value instead\n",
      "\n",
      "See the caveats in the documentation: https://pandas.pydata.org/pandas-docs/stable/user_guide/indexing.html#returning-a-view-versus-a-copy\n",
      "  df_id_tweet['cleanedTokens'] = df_id_tweet['tokens'].apply(removeStopWords)\n"
     ]
    }
   ],
   "source": [
    "df_id_tweet['cleanedTokens'] = df_id_tweet['tokens'].apply(removeStopWords)"
   ]
  },
  {
   "cell_type": "code",
   "execution_count": 84,
   "metadata": {},
   "outputs": [],
   "source": [
    "freq_count = dict()\n",
    "for tweet in df_id_tweet['cleanedTokens']:\n",
    "    for word in tweet:\n",
    "        if len(word) < 2:\n",
    "            continue\n",
    "        elif word not in freq_count:\n",
    "            freq_count[word] = 1\n",
    "        elif word in freq_count:\n",
    "            freq_count[word] +=1\n"
   ]
  },
  {
   "cell_type": "markdown",
   "metadata": {},
   "source": [
    "Get top 20 Frequency Counts of words"
   ]
  },
  {
   "cell_type": "code",
   "execution_count": 85,
   "metadata": {},
   "outputs": [],
   "source": [
    "import matplotlib.pyplot as plt\n",
    "lists = pd.DataFrame(sorted(freq_count.items()), columns=['name','count'])"
   ]
  },
  {
   "cell_type": "code",
   "execution_count": 94,
   "metadata": {},
   "outputs": [
    {
     "data": {
      "text/html": [
       "<div>\n",
       "<style scoped>\n",
       "    .dataframe tbody tr th:only-of-type {\n",
       "        vertical-align: middle;\n",
       "    }\n",
       "\n",
       "    .dataframe tbody tr th {\n",
       "        vertical-align: top;\n",
       "    }\n",
       "\n",
       "    .dataframe thead th {\n",
       "        text-align: right;\n",
       "    }\n",
       "</style>\n",
       "<table border=\"1\" class=\"dataframe\">\n",
       "  <thead>\n",
       "    <tr style=\"text-align: right;\">\n",
       "      <th></th>\n",
       "      <th>name</th>\n",
       "      <th>count</th>\n",
       "    </tr>\n",
       "  </thead>\n",
       "  <tbody>\n",
       "    <tr>\n",
       "      <th>49377</th>\n",
       "      <td>employee</td>\n",
       "      <td>39</td>\n",
       "    </tr>\n",
       "    <tr>\n",
       "      <th>57632</th>\n",
       "      <td>marketing</td>\n",
       "      <td>14</td>\n",
       "    </tr>\n",
       "    <tr>\n",
       "      <th>65393</th>\n",
       "      <td>sales</td>\n",
       "      <td>45</td>\n",
       "    </tr>\n",
       "  </tbody>\n",
       "</table>\n",
       "</div>"
      ],
      "text/plain": [
       "            name  count\n",
       "49377   employee     39\n",
       "57632  marketing     14\n",
       "65393      sales     45"
      ]
     },
     "execution_count": 94,
     "metadata": {},
     "output_type": "execute_result"
    }
   ],
   "source": [
    "lists[lists['name'].isin(['employee','sales','marketing'])]"
   ]
  },
  {
   "cell_type": "code",
   "execution_count": 69,
   "metadata": {},
   "outputs": [
    {
     "data": {
      "text/html": [
       "<div>\n",
       "<style scoped>\n",
       "    .dataframe tbody tr th:only-of-type {\n",
       "        vertical-align: middle;\n",
       "    }\n",
       "\n",
       "    .dataframe tbody tr th {\n",
       "        vertical-align: top;\n",
       "    }\n",
       "\n",
       "    .dataframe thead th {\n",
       "        text-align: right;\n",
       "    }\n",
       "</style>\n",
       "<table border=\"1\" class=\"dataframe\">\n",
       "  <thead>\n",
       "    <tr style=\"text-align: right;\">\n",
       "      <th></th>\n",
       "      <th>name</th>\n",
       "      <th>count</th>\n",
       "    </tr>\n",
       "  </thead>\n",
       "  <tbody>\n",
       "    <tr>\n",
       "      <th>53615</th>\n",
       "      <td>https</td>\n",
       "      <td>16652</td>\n",
       "    </tr>\n",
       "    <tr>\n",
       "      <th>61343</th>\n",
       "      <td>phone</td>\n",
       "      <td>10993</td>\n",
       "    </tr>\n",
       "    <tr>\n",
       "      <th>53932</th>\n",
       "      <td>iPhone</td>\n",
       "      <td>9640</td>\n",
       "    </tr>\n",
       "    <tr>\n",
       "      <th>18374</th>\n",
       "      <td>115858</td>\n",
       "      <td>7878</td>\n",
       "    </tr>\n",
       "    <tr>\n",
       "      <th>31269</th>\n",
       "      <td>I️</td>\n",
       "      <td>7733</td>\n",
       "    </tr>\n",
       "    <tr>\n",
       "      <th>70596</th>\n",
       "      <td>update</td>\n",
       "      <td>7417</td>\n",
       "    </tr>\n",
       "    <tr>\n",
       "      <th>53809</th>\n",
       "      <td>iOS</td>\n",
       "      <td>6738</td>\n",
       "    </tr>\n",
       "    <tr>\n",
       "      <th>53134</th>\n",
       "      <td>help</td>\n",
       "      <td>5626</td>\n",
       "    </tr>\n",
       "    <tr>\n",
       "      <th>50940</th>\n",
       "      <td>fix</td>\n",
       "      <td>5434</td>\n",
       "    </tr>\n",
       "    <tr>\n",
       "      <th>59148</th>\n",
       "      <td>new</td>\n",
       "      <td>4844</td>\n",
       "    </tr>\n",
       "    <tr>\n",
       "      <th>42788</th>\n",
       "      <td>battery</td>\n",
       "      <td>4468</td>\n",
       "    </tr>\n",
       "    <tr>\n",
       "      <th>463</th>\n",
       "      <td>...</td>\n",
       "      <td>4342</td>\n",
       "    </tr>\n",
       "    <tr>\n",
       "      <th>25105</th>\n",
       "      <td>Apple</td>\n",
       "      <td>4068</td>\n",
       "    </tr>\n",
       "    <tr>\n",
       "      <th>60282</th>\n",
       "      <td>order</td>\n",
       "      <td>3624</td>\n",
       "    </tr>\n",
       "    <tr>\n",
       "      <th>69204</th>\n",
       "      <td>time</td>\n",
       "      <td>3606</td>\n",
       "    </tr>\n",
       "    <tr>\n",
       "      <th>33184</th>\n",
       "      <td>My</td>\n",
       "      <td>3446</td>\n",
       "    </tr>\n",
       "    <tr>\n",
       "      <th>41073</th>\n",
       "      <td>amp</td>\n",
       "      <td>3368</td>\n",
       "    </tr>\n",
       "    <tr>\n",
       "      <th>18019</th>\n",
       "      <td>11</td>\n",
       "      <td>3236</td>\n",
       "    </tr>\n",
       "    <tr>\n",
       "      <th>31236</th>\n",
       "      <td>It</td>\n",
       "      <td>3132</td>\n",
       "    </tr>\n",
       "    <tr>\n",
       "      <th>47331</th>\n",
       "      <td>delivery</td>\n",
       "      <td>3114</td>\n",
       "    </tr>\n",
       "  </tbody>\n",
       "</table>\n",
       "</div>"
      ],
      "text/plain": [
       "           name  count\n",
       "53615     https  16652\n",
       "61343     phone  10993\n",
       "53932    iPhone   9640\n",
       "18374    115858   7878\n",
       "31269        I️   7733\n",
       "70596    update   7417\n",
       "53809       iOS   6738\n",
       "53134      help   5626\n",
       "50940       fix   5434\n",
       "59148       new   4844\n",
       "42788   battery   4468\n",
       "463         ...   4342\n",
       "25105     Apple   4068\n",
       "60282     order   3624\n",
       "69204      time   3606\n",
       "33184        My   3446\n",
       "41073       amp   3368\n",
       "18019        11   3236\n",
       "31236        It   3132\n",
       "47331  delivery   3114"
      ]
     },
     "execution_count": 69,
     "metadata": {},
     "output_type": "execute_result"
    }
   ],
   "source": [
    "lists.sort_values(by='count', ascending=False).head(20)"
   ]
  },
  {
   "cell_type": "code",
   "execution_count": 63,
   "metadata": {},
   "outputs": [
    {
     "data": {
      "text/html": [
       "<div>\n",
       "<style scoped>\n",
       "    .dataframe tbody tr th:only-of-type {\n",
       "        vertical-align: middle;\n",
       "    }\n",
       "\n",
       "    .dataframe tbody tr th {\n",
       "        vertical-align: top;\n",
       "    }\n",
       "\n",
       "    .dataframe thead th {\n",
       "        text-align: right;\n",
       "    }\n",
       "</style>\n",
       "<table border=\"1\" class=\"dataframe\">\n",
       "  <thead>\n",
       "    <tr style=\"text-align: right;\">\n",
       "      <th></th>\n",
       "      <th>tweet_id</th>\n",
       "      <th>author_id</th>\n",
       "      <th>inbound</th>\n",
       "      <th>created_at</th>\n",
       "      <th>text</th>\n",
       "      <th>response_tweet_id</th>\n",
       "      <th>in_response_to_tweet_id</th>\n",
       "    </tr>\n",
       "  </thead>\n",
       "  <tbody>\n",
       "    <tr>\n",
       "      <th>91481</th>\n",
       "      <td>116012</td>\n",
       "      <td>141837</td>\n",
       "      <td>True</td>\n",
       "      <td>Thu Nov 23 21:19:53 +0000 2017</td>\n",
       "      <td>@AppleSupport In how many years will I have th...</td>\n",
       "      <td>116011</td>\n",
       "      <td>NaN</td>\n",
       "    </tr>\n",
       "    <tr>\n",
       "      <th>244594</th>\n",
       "      <td>282445</td>\n",
       "      <td>183289</td>\n",
       "      <td>True</td>\n",
       "      <td>Fri Oct 06 12:13:19 +0000 2017</td>\n",
       "      <td>Some people are doing black marketing by selli...</td>\n",
       "      <td>282444,282446</td>\n",
       "      <td>NaN</td>\n",
       "    </tr>\n",
       "    <tr>\n",
       "      <th>276989</th>\n",
       "      <td>317459</td>\n",
       "      <td>191766</td>\n",
       "      <td>True</td>\n",
       "      <td>Sat Oct 07 08:44:48 +0000 2017</td>\n",
       "      <td>@AmazonHelp I had created an account on Amazon...</td>\n",
       "      <td>317457</td>\n",
       "      <td>NaN</td>\n",
       "    </tr>\n",
       "    <tr>\n",
       "      <th>279518</th>\n",
       "      <td>320084</td>\n",
       "      <td>183289</td>\n",
       "      <td>True</td>\n",
       "      <td>Sat Oct 07 11:08:43 +0000 2017</td>\n",
       "      <td>How Amazon staff involved in Black marketing b...</td>\n",
       "      <td>320083,320085</td>\n",
       "      <td>NaN</td>\n",
       "    </tr>\n",
       "    <tr>\n",
       "      <th>320559</th>\n",
       "      <td>367451</td>\n",
       "      <td>203041</td>\n",
       "      <td>True</td>\n",
       "      <td>Sun Oct 08 20:35:33 +0000 2017</td>\n",
       "      <td>\"Your card is ready to dispatch\" Don't fool, g...</td>\n",
       "      <td>367449</td>\n",
       "      <td>NaN</td>\n",
       "    </tr>\n",
       "    <tr>\n",
       "      <th>369643</th>\n",
       "      <td>422501</td>\n",
       "      <td>215625</td>\n",
       "      <td>True</td>\n",
       "      <td>Tue Oct 10 09:24:12 +0000 2017</td>\n",
       "      <td>@AmazonHelp @115850 : Stop using such marketin...</td>\n",
       "      <td>422499</td>\n",
       "      <td>NaN</td>\n",
       "    </tr>\n",
       "    <tr>\n",
       "      <th>578488</th>\n",
       "      <td>650686</td>\n",
       "      <td>274738</td>\n",
       "      <td>True</td>\n",
       "      <td>Wed Nov 22 21:20:37 +0000 2017</td>\n",
       "      <td>Hey @sprintcare, I’m part of your network. Yes...</td>\n",
       "      <td>650685</td>\n",
       "      <td>NaN</td>\n",
       "    </tr>\n",
       "    <tr>\n",
       "      <th>640259</th>\n",
       "      <td>717057</td>\n",
       "      <td>291665</td>\n",
       "      <td>True</td>\n",
       "      <td>Tue Oct 10 18:25:50 +0000 2017</td>\n",
       "      <td>@115858 @AppleSupport: after download of IOS 1...</td>\n",
       "      <td>717055</td>\n",
       "      <td>NaN</td>\n",
       "    </tr>\n",
       "    <tr>\n",
       "      <th>705976</th>\n",
       "      <td>789731</td>\n",
       "      <td>183541</td>\n",
       "      <td>True</td>\n",
       "      <td>Thu Oct 12 11:29:37 +0000 2017</td>\n",
       "      <td>@AmazonHelp @115850 @115851  \\nPhrase: Big RIC...</td>\n",
       "      <td>789729,789733</td>\n",
       "      <td>NaN</td>\n",
       "    </tr>\n",
       "    <tr>\n",
       "      <th>855338</th>\n",
       "      <td>951953</td>\n",
       "      <td>345835</td>\n",
       "      <td>True</td>\n",
       "      <td>Fri Oct 13 21:44:06 +0000 2017</td>\n",
       "      <td>If u can't exchange products in Visakhapatnam ...</td>\n",
       "      <td>951951,951956</td>\n",
       "      <td>NaN</td>\n",
       "    </tr>\n",
       "    <tr>\n",
       "      <th>1884697</th>\n",
       "      <td>2040558</td>\n",
       "      <td>603358</td>\n",
       "      <td>True</td>\n",
       "      <td>Tue Nov 07 22:31:01 +0000 2017</td>\n",
       "      <td>@AppleSupport Hi. Why did my phone become slow...</td>\n",
       "      <td>2040557</td>\n",
       "      <td>NaN</td>\n",
       "    </tr>\n",
       "    <tr>\n",
       "      <th>2225379</th>\n",
       "      <td>2388887</td>\n",
       "      <td>257954</td>\n",
       "      <td>True</td>\n",
       "      <td>Tue Nov 14 08:04:54 +0000 2017</td>\n",
       "      <td>Ok... this is genuinely not a marketing thing,...</td>\n",
       "      <td>2388886,2388888,2388889,2388890,2388891,238889...</td>\n",
       "      <td>NaN</td>\n",
       "    </tr>\n",
       "    <tr>\n",
       "      <th>2414264</th>\n",
       "      <td>2583024</td>\n",
       "      <td>732000</td>\n",
       "      <td>True</td>\n",
       "      <td>Thu Nov 16 23:17:03 +0000 2017</td>\n",
       "      <td>@AmazonHelp just received SMS marketing in Aus...</td>\n",
       "      <td>2583022</td>\n",
       "      <td>NaN</td>\n",
       "    </tr>\n",
       "    <tr>\n",
       "      <th>2605813</th>\n",
       "      <td>2777581</td>\n",
       "      <td>350578</td>\n",
       "      <td>True</td>\n",
       "      <td>Tue Nov 21 14:55:01 +0000 2017</td>\n",
       "      <td>.@TwitterSupport @AppleSupport Why does #Safar...</td>\n",
       "      <td>2777580</td>\n",
       "      <td>NaN</td>\n",
       "    </tr>\n",
       "    <tr>\n",
       "      <th>2683052</th>\n",
       "      <td>2856812</td>\n",
       "      <td>794018</td>\n",
       "      <td>True</td>\n",
       "      <td>Mon Nov 27 21:13:50 +0000 2017</td>\n",
       "      <td>@AppleSupport stop with all these marketing in...</td>\n",
       "      <td>2856811</td>\n",
       "      <td>NaN</td>\n",
       "    </tr>\n",
       "    <tr>\n",
       "      <th>2736384</th>\n",
       "      <td>2911747</td>\n",
       "      <td>806040</td>\n",
       "      <td>True</td>\n",
       "      <td>Tue Nov 28 21:32:24 +0000 2017</td>\n",
       "      <td>Hey @115858 @AppleSupport Maybe let your marke...</td>\n",
       "      <td>2911746</td>\n",
       "      <td>NaN</td>\n",
       "    </tr>\n",
       "  </tbody>\n",
       "</table>\n",
       "</div>"
      ],
      "text/plain": [
       "         tweet_id author_id  inbound                      created_at  \\\n",
       "91481      116012    141837     True  Thu Nov 23 21:19:53 +0000 2017   \n",
       "244594     282445    183289     True  Fri Oct 06 12:13:19 +0000 2017   \n",
       "276989     317459    191766     True  Sat Oct 07 08:44:48 +0000 2017   \n",
       "279518     320084    183289     True  Sat Oct 07 11:08:43 +0000 2017   \n",
       "320559     367451    203041     True  Sun Oct 08 20:35:33 +0000 2017   \n",
       "369643     422501    215625     True  Tue Oct 10 09:24:12 +0000 2017   \n",
       "578488     650686    274738     True  Wed Nov 22 21:20:37 +0000 2017   \n",
       "640259     717057    291665     True  Tue Oct 10 18:25:50 +0000 2017   \n",
       "705976     789731    183541     True  Thu Oct 12 11:29:37 +0000 2017   \n",
       "855338     951953    345835     True  Fri Oct 13 21:44:06 +0000 2017   \n",
       "1884697   2040558    603358     True  Tue Nov 07 22:31:01 +0000 2017   \n",
       "2225379   2388887    257954     True  Tue Nov 14 08:04:54 +0000 2017   \n",
       "2414264   2583024    732000     True  Thu Nov 16 23:17:03 +0000 2017   \n",
       "2605813   2777581    350578     True  Tue Nov 21 14:55:01 +0000 2017   \n",
       "2683052   2856812    794018     True  Mon Nov 27 21:13:50 +0000 2017   \n",
       "2736384   2911747    806040     True  Tue Nov 28 21:32:24 +0000 2017   \n",
       "\n",
       "                                                      text  \\\n",
       "91481    @AppleSupport In how many years will I have th...   \n",
       "244594   Some people are doing black marketing by selli...   \n",
       "276989   @AmazonHelp I had created an account on Amazon...   \n",
       "279518   How Amazon staff involved in Black marketing b...   \n",
       "320559   \"Your card is ready to dispatch\" Don't fool, g...   \n",
       "369643   @AmazonHelp @115850 : Stop using such marketin...   \n",
       "578488   Hey @sprintcare, I’m part of your network. Yes...   \n",
       "640259   @115858 @AppleSupport: after download of IOS 1...   \n",
       "705976   @AmazonHelp @115850 @115851  \\nPhrase: Big RIC...   \n",
       "855338   If u can't exchange products in Visakhapatnam ...   \n",
       "1884697  @AppleSupport Hi. Why did my phone become slow...   \n",
       "2225379  Ok... this is genuinely not a marketing thing,...   \n",
       "2414264  @AmazonHelp just received SMS marketing in Aus...   \n",
       "2605813  .@TwitterSupport @AppleSupport Why does #Safar...   \n",
       "2683052  @AppleSupport stop with all these marketing in...   \n",
       "2736384  Hey @115858 @AppleSupport Maybe let your marke...   \n",
       "\n",
       "                                         response_tweet_id  \\\n",
       "91481                                               116011   \n",
       "244594                                       282444,282446   \n",
       "276989                                              317457   \n",
       "279518                                       320083,320085   \n",
       "320559                                              367449   \n",
       "369643                                              422499   \n",
       "578488                                              650685   \n",
       "640259                                              717055   \n",
       "705976                                       789729,789733   \n",
       "855338                                       951951,951956   \n",
       "1884697                                            2040557   \n",
       "2225379  2388886,2388888,2388889,2388890,2388891,238889...   \n",
       "2414264                                            2583022   \n",
       "2605813                                            2777580   \n",
       "2683052                                            2856811   \n",
       "2736384                                            2911746   \n",
       "\n",
       "         in_response_to_tweet_id  \n",
       "91481                        NaN  \n",
       "244594                       NaN  \n",
       "276989                       NaN  \n",
       "279518                       NaN  \n",
       "320559                       NaN  \n",
       "369643                       NaN  \n",
       "578488                       NaN  \n",
       "640259                       NaN  \n",
       "705976                       NaN  \n",
       "855338                       NaN  \n",
       "1884697                      NaN  \n",
       "2225379                      NaN  \n",
       "2414264                      NaN  \n",
       "2605813                      NaN  \n",
       "2683052                      NaN  \n",
       "2736384                      NaN  "
      ]
     },
     "execution_count": 63,
     "metadata": {},
     "output_type": "execute_result"
    }
   ],
   "source": [
    "#Marketing Labels\n",
    "comp_df[comp_df['text'].str.contains('marketing')]"
   ]
  },
  {
   "cell_type": "code",
   "execution_count": 11,
   "metadata": {},
   "outputs": [
    {
     "data": {
      "text/plain": [
       "0                3\n",
       "1                1\n",
       "2                4\n",
       "3                5\n",
       "4                6\n",
       "            ...   \n",
       "2811766     139627\n",
       "2811767    2987946\n",
       "2811769    2987948\n",
       "2811771    2812239\n",
       "2811772    2987950\n",
       "Name: in_response_to_tweet_id, Length: 2017439, dtype: int32"
      ]
     },
     "execution_count": 11,
     "metadata": {},
     "output_type": "execute_result"
    }
   ],
   "source": [
    "#Cleanup data\n",
    "df['in_response_to_tweet_id'].dropna().astype(int)"
   ]
  },
  {
   "cell_type": "code",
   "execution_count": 10,
   "metadata": {},
   "outputs": [],
   "source": [
    "a#Import SpaCy language\n",
    "from spacy.lang.en import English\n",
    "nlp = English()"
   ]
  },
  {
   "cell_type": "code",
   "execution_count": 11,
   "metadata": {},
   "outputs": [
    {
     "data": {
      "text/plain": [
       "<spacy.lang.en.English at 0x171c8ef7670>"
      ]
     },
     "execution_count": 11,
     "metadata": {},
     "output_type": "execute_result"
    }
   ],
   "source": [
    "#Tokenize Sentences\n",
    "\n"
   ]
  },
  {
   "cell_type": "code",
   "execution_count": 26,
   "metadata": {},
   "outputs": [],
   "source": [
    "authors = list(df['author_id'].unique())"
   ]
  },
  {
   "cell_type": "code",
   "execution_count": 28,
   "metadata": {},
   "outputs": [],
   "source": [
    "#replies\n",
    "replies = df[df['text'].str.contains('@sprintcare')]"
   ]
  },
  {
   "cell_type": "code",
   "execution_count": 31,
   "metadata": {},
   "outputs": [
    {
     "name": "stderr",
     "output_type": "stream",
     "text": [
      "C:\\Users\\joshu\\anaconda3\\envs\\chatbot\\lib\\site-packages\\pandas\\core\\generic.py:5516: SettingWithCopyWarning: \n",
      "A value is trying to be set on a copy of a slice from a DataFrame.\n",
      "Try using .loc[row_indexer,col_indexer] = value instead\n",
      "\n",
      "See the caveats in the documentation: https://pandas.pydata.org/pandas-docs/stable/user_guide/indexing.html#returning-a-view-versus-a-copy\n",
      "  self[name] = value\n"
     ]
    }
   ],
   "source": [
    "replies.text = replies.text.astype(str)\n"
   ]
  },
  {
   "cell_type": "code",
   "execution_count": 22,
   "metadata": {},
   "outputs": [],
   "source": [
    "a_df = df[df['author_id'].isin(['AppleSupport', 'AmazonHelp','Uber_suport','sprintcare', 'VerizonSupport'])]"
   ]
  }
 ],
 "metadata": {
  "interpreter": {
   "hash": "d695bbffc6e75a2dbfd78d84a50ebbe3c13bf07e95f35e38a1ef682ab022e5eb"
  },
  "kernelspec": {
   "display_name": "Python 3.9.7 ('chatbot')",
   "language": "python",
   "name": "python3"
  },
  "language_info": {
   "codemirror_mode": {
    "name": "ipython",
    "version": 3
   },
   "file_extension": ".py",
   "mimetype": "text/x-python",
   "name": "python",
   "nbconvert_exporter": "python",
   "pygments_lexer": "ipython3",
   "version": "3.9.7"
  },
  "orig_nbformat": 4
 },
 "nbformat": 4,
 "nbformat_minor": 2
}
